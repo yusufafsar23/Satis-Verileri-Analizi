{
 "cells": [
  {
   "metadata": {
    "collapsed": true
   },
   "cell_type": "code",
   "outputs": [],
   "execution_count": null,
   "source": [
    "# E-Ticaret Veri Analizi Projesi\n",
    "\n",
    "Bu projede, **Online Retail** veri setini kullanarak aşağıdaki analizleri gerçekleştireceğiz:\n",
    "\n",
    "- En çok satılan ürünler\n",
    "- Saatlere göre sipariş yoğunluğu\n",
    "- Ürünlerin toplam getirisi\n",
    "- Faturalarda en çok geçen ülkeler\n"
   ],
   "id": "initial_id"
  },
  {
   "metadata": {},
   "cell_type": "code",
   "outputs": [],
   "execution_count": null,
   "source": [
    "# Gerekli kütüphaneleri yükle\n",
    "import pandas as pd\n",
    "import matplotlib.pyplot as plt\n"
   ],
   "id": "8804223b87712ce8"
  },
  {
   "metadata": {},
   "cell_type": "code",
   "outputs": [],
   "execution_count": null,
   "source": [
    "# Veri setini oku\n",
    "df = pd.read_csv(\"C:/Users/90507/Desktop/archive/data.csv\", encoding=\"windows-1254\") \n",
    "\n"
   ],
   "id": "f3762e0294afd2a8"
  },
  {
   "metadata": {},
   "cell_type": "markdown",
   "source": "## 1. En çok satın alınan ürünler\n",
   "id": "cb1b47b158ec6d1e"
  },
  {
   "metadata": {},
   "cell_type": "code",
   "outputs": [],
   "execution_count": null,
   "source": [
    "df = df[df['Quantity'] > 0]  # negatif ve sıfırları çıkar\n",
    "\n",
    "most_sold_df = df.groupby('Description')['Quantity'].sum().sort_values(ascending=False).reset_index()\n",
    "most_sold_df.head(10)\n"
   ],
   "id": "b9f93cc606ee8643"
  },
  {
   "metadata": {},
   "cell_type": "markdown",
   "source": "## 2. Saatlere göre sipariş yoğunluğu grafiğini oluşturma\n",
   "id": "740eb3c819a37490"
  },
  {
   "metadata": {},
   "cell_type": "code",
   "outputs": [],
   "execution_count": null,
   "source": [
    "df['InvoiceDate'] = pd.to_datetime(df['InvoiceDate'])\n",
    "df['Hour'] = df['InvoiceDate'].dt.hour\n",
    "\n",
    "orders_by_hour = df.groupby('Hour')['InvoiceNo'].nunique()\n",
    "\n",
    "plt.figure(figsize=(10,5))\n",
    "plt.plot(orders_by_hour.index, orders_by_hour.values, marker='o')\n",
    "plt.title('Saatlere Göre Sipariş Sayısı')\n",
    "plt.xlabel('Saat')\n",
    "plt.ylabel('Sipariş Sayısı')\n",
    "plt.grid(True)\n",
    "plt.xticks(range(0,24))\n",
    "plt.show()\n"
   ],
   "id": "afa72a3d2674bf00"
  },
  {
   "metadata": {},
   "cell_type": "markdown",
   "source": "## 3. Ürünlerin toplam getirisi\n",
   "id": "dc2879e4f5506df0"
  },
  {
   "metadata": {},
   "cell_type": "code",
   "outputs": [],
   "execution_count": null,
   "source": [
    "df['TotalPrice'] = df['Quantity'] * df['UnitPrice']\n",
    "\n",
    "revenue_by_product = df.groupby('Description')['TotalPrice'].sum().sort_values(ascending=False).reset_index()\n",
    "revenue_by_product.head(10)\n"
   ],
   "id": "f99da7e9818d953a"
  },
  {
   "metadata": {},
   "cell_type": "markdown",
   "source": "## 4. Faturalarda en çok geçen ülkeler\n",
   "id": "b82443f102004965"
  },
  {
   "metadata": {},
   "cell_type": "code",
   "outputs": [],
   "execution_count": null,
   "source": [
    "invoices_by_country = df.groupby('Country')['InvoiceNo'].nunique().sort_values(ascending=False)\n",
    "\n",
    "invoices_by_country.head(10).plot(kind='barh', figsize=(10,6), color='skyblue')\n",
    "plt.title('En Çok Satış Yapılan Ülkeler')\n",
    "plt.xlabel('Fatura Sayısı')\n",
    "plt.ylabel('Ülke')\n",
    "plt.gca().invert_yaxis()\n",
    "plt.show()\n"
   ],
   "id": "7f9c773b8a4de1d5"
  }
 ],
 "metadata": {
  "kernelspec": {
   "display_name": "Python 3",
   "language": "python",
   "name": "python3"
  },
  "language_info": {
   "codemirror_mode": {
    "name": "ipython",
    "version": 2
   },
   "file_extension": ".py",
   "mimetype": "text/x-python",
   "name": "python",
   "nbconvert_exporter": "python",
   "pygments_lexer": "ipython2",
   "version": "2.7.6"
  }
 },
 "nbformat": 4,
 "nbformat_minor": 5
}
